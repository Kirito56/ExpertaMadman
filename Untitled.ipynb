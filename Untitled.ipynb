{
 "cells": [
  {
   "cell_type": "code",
   "execution_count": 1,
   "id": "04e0010e",
   "metadata": {},
   "outputs": [],
   "source": [
    "from ES import graphic_card"
   ]
  },
  {
   "cell_type": "code",
   "execution_count": 3,
   "id": "e4b684a4",
   "metadata": {},
   "outputs": [
    {
     "ename": "SyntaxError",
     "evalue": "DefFacts must be instanced to allow decoration (<string>)",
     "output_type": "error",
     "traceback": [
      "Traceback \u001b[1;36m(most recent call last)\u001b[0m:\n",
      "  File \u001b[0;32m\"C:\\ProgramData\\Anaconda3\\lib\\site-packages\\IPython\\core\\interactiveshell.py\"\u001b[0m, line \u001b[0;32m3437\u001b[0m, in \u001b[0;35mrun_code\u001b[0m\n    exec(code_obj, self.user_global_ns, self.user_ns)\n",
      "  File \u001b[0;32m\"<ipython-input-3-45c9216fc686>\"\u001b[0m, line \u001b[0;32m1\u001b[0m, in \u001b[0;35m<module>\u001b[0m\n    from DefFact import DefFact\n",
      "  File \u001b[0;32m\"C:\\Users\\Solus\\ExpertaMadman\\DefFact.py\"\u001b[0m, line \u001b[0;32m8\u001b[0m, in \u001b[0;35m<module>\u001b[0m\n    class DefFact(KnowledgeEngine):\n",
      "  File \u001b[0;32m\"C:\\Users\\Solus\\ExpertaMadman\\DefFact.py\"\u001b[0m, line \u001b[0;32m10\u001b[0m, in \u001b[0;35mDefFact\u001b[0m\n    def init_facts(self):\n",
      "\u001b[1;36m  File \u001b[1;32m\"C:\\Users\\Solus\\ExpertaMadman\\experta\\deffacts.py\"\u001b[1;36m, line \u001b[1;32m10\u001b[1;36m, in \u001b[1;35m__new__\u001b[1;36m\u001b[0m\n\u001b[1;33m    raise SyntaxError(\"DefFacts must be instanced to allow decoration\")\u001b[0m\n",
      "\u001b[1;36m  File \u001b[1;32m\"<string>\"\u001b[1;36m, line \u001b[1;32munknown\u001b[0m\n\u001b[1;31mSyntaxError\u001b[0m\u001b[1;31m:\u001b[0m DefFacts must be instanced to allow decoration\n"
     ]
    }
   ],
   "source": [
    "from DefFact import DefFact"
   ]
  },
  {
   "cell_type": "code",
   "execution_count": null,
   "id": "a07c4e6a",
   "metadata": {},
   "outputs": [],
   "source": []
  }
 ],
 "metadata": {
  "kernelspec": {
   "display_name": "Python 3",
   "language": "python",
   "name": "python3"
  },
  "language_info": {
   "codemirror_mode": {
    "name": "ipython",
    "version": 3
   },
   "file_extension": ".py",
   "mimetype": "text/x-python",
   "name": "python",
   "nbconvert_exporter": "python",
   "pygments_lexer": "ipython3",
   "version": "3.8.8"
  }
 },
 "nbformat": 4,
 "nbformat_minor": 5
}
